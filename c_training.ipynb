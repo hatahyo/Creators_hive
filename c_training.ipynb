{
 "cells": [
  {
   "cell_type": "markdown",
   "metadata": {},
   "source": [
    "# _Training!!! _"
   ]
  },
  {
   "cell_type": "markdown",
   "metadata": {},
   "source": [
    "## <a style='color:blue'>_Level : Beginer_</a>"
   ]
  },
  {
   "cell_type": "markdown",
   "metadata": {},
   "source": [
    "#### A-1\n",
    "1~100を出力させなさい"
   ]
  },
  {
   "cell_type": "code",
   "execution_count": null,
   "metadata": {},
   "outputs": [],
   "source": []
  },
  {
   "cell_type": "markdown",
   "metadata": {},
   "source": [
    "#### A-2\n",
    "1~100を5つ飛ばしで出力させなさい　 \n",
    "\n",
    "ex.)  \n",
    "1  \n",
    "6  \n",
    "11　 "
   ]
  },
  {
   "cell_type": "code",
   "execution_count": null,
   "metadata": {},
   "outputs": [],
   "source": []
  },
  {
   "cell_type": "markdown",
   "metadata": {},
   "source": [
    "#### A-3 \n",
    "`input` 関数を使い、キーボードから名前を入力したら、挨拶をするようなプログラムを作りなさい　 \n",
    "\n",
    "ex.)\n",
    "名前を入力> <a s入tyle='color: blue'>太郎</a>  \n",
    "太郎さん、こんにちは。"
   ]
  },
  {
   "cell_type": "code",
   "execution_count": null,
   "metadata": {},
   "outputs": [],
   "source": []
  },
  {
   "cell_type": "markdown",
   "metadata": {},
   "source": [
    "#### A-4\n",
    "\n",
    "与えられた数が偶数なのか奇数なのか判定するプログラムを書きなさい"
   ]
  },
  {
   "cell_type": "code",
   "execution_count": null,
   "metadata": {},
   "outputs": [],
   "source": []
  },
  {
   "cell_type": "markdown",
   "metadata": {},
   "source": [
    "#### A-5\n",
    "`input` 関数を使い、キーボードから\"morning\"か \"noon\"か \"evening\"のいずれかの文字列を入力すると、\n",
    "その時間に合った挨拶を、 それ以外の文字列が入力された際は\"どうも\"と挨拶するプログラムを完成させなさい。"
   ]
  },
  {
   "cell_type": "code",
   "execution_count": null,
   "metadata": {},
   "outputs": [],
   "source": []
  },
  {
   "cell_type": "markdown",
   "metadata": {},
   "source": [
    "#### A-6\n",
    "引数を２乗する__関数__を作成しなさい"
   ]
  },
  {
   "cell_type": "code",
   "execution_count": null,
   "metadata": {},
   "outputs": [],
   "source": []
  },
  {
   "cell_type": "markdown",
   "metadata": {},
   "source": [
    "## <a style='color:green'>_Level : Basic_</a>"
   ]
  },
  {
   "cell_type": "markdown",
   "metadata": {},
   "source": [
    "#### B-1\n",
    "a = [8, 10, 13, 15, 17, 21, 25, 30, 42, 54]   \n",
    "というリストにおいて5で割り切れるもののみを出力しなさい"
   ]
  },
  {
   "cell_type": "code",
   "execution_count": null,
   "metadata": {},
   "outputs": [],
   "source": []
  },
  {
   "cell_type": "markdown",
   "metadata": {},
   "source": [
    "#### B-2\n",
    "__A-4__で作ったプログラムを3回繰り返しなさい"
   ]
  },
  {
   "cell_type": "code",
   "execution_count": null,
   "metadata": {},
   "outputs": [],
   "source": []
  },
  {
   "cell_type": "markdown",
   "metadata": {},
   "source": [
    "#### B-3\n",
    "FizzBuzzゲームを作成しなさい　　\n",
    "\n",
    "  _（15の倍数：FizzBuzz、3の倍数：Fizz、5の倍数：Buzz　と出力させる）_"
   ]
  },
  {
   "cell_type": "code",
   "execution_count": null,
   "metadata": {},
   "outputs": [],
   "source": []
  },
  {
   "cell_type": "markdown",
   "metadata": {},
   "source": [
    "#### B-4\n",
    "ladies = [\"新垣結衣\", \"北川景子\", \"井上真央\", \"広瀬すず\", \"石原さとみ\",\"長澤まさみ\", \"吉高由里子\",\"ミッツマングローブ\"]  \n",
    "というリストにおいて名前が５文字以上の者のみ出力させなさい"
   ]
  },
  {
   "cell_type": "code",
   "execution_count": null,
   "metadata": {},
   "outputs": [],
   "source": []
  },
  {
   "cell_type": "markdown",
   "metadata": {},
   "source": [
    "#### B-5\n",
    "while文を使い、名前を聞き、キーボードから入力すると　　\n",
    "\n",
    "「こんにちは、〇〇さん！」　　\n",
    "\n",
    "と返してくれるプログラムをひたすら繰り返すしつこさ満載のプログラムを作成しなさい　　\n",
    "\n",
    "しかし、「うざい」と入力するとループ処理を終了させる処理も入れなさい"
   ]
  },
  {
   "cell_type": "code",
   "execution_count": null,
   "metadata": {},
   "outputs": [],
   "source": []
  },
  {
   "cell_type": "markdown",
   "metadata": {},
   "source": [
    "#### B-6\n",
    "消費税8%を掛けた後の税込価格をInt型で算出するための__関数__を作成してなさい。　　\n",
    "\n",
    "ex.) `Out[]:`100円の税込は108円です。"
   ]
  },
  {
   "cell_type": "code",
   "execution_count": null,
   "metadata": {},
   "outputs": [],
   "source": []
  },
  {
   "cell_type": "markdown",
   "metadata": {},
   "source": [
    "#### B-7\n",
    "引数に渡されたn個（nは任意の整数）の数値のリストの合計を算出する__関数__を作成しなさい。"
   ]
  },
  {
   "cell_type": "code",
   "execution_count": null,
   "metadata": {},
   "outputs": [],
   "source": []
  },
  {
   "cell_type": "markdown",
   "metadata": {},
   "source": [
    "#### B-8\n",
    "与えられた数字が素数であるかどうかを判定する__関数__を作成しなさい"
   ]
  },
  {
   "cell_type": "code",
   "execution_count": null,
   "metadata": {},
   "outputs": [],
   "source": []
  },
  {
   "cell_type": "markdown",
   "metadata": {},
   "source": [
    "#### B-9\n",
    "ある地域の一年の降水量を手に入れた。  \n",
    "\n",
    "||降水量|\n",
    "|---|:-:|\n",
    "||168|\n",
    "||109|\n",
    "||146|\n",
    "||242|\n",
    "||381|\n",
    "||539|\n",
    "||474|\n",
    "||12|\n",
    "||253|\n",
    "||240|\n",
    "||90|\n",
    "||103|\n",
    "\n",
    "\n",
    "これをリストにしなさい"
   ]
  },
  {
   "cell_type": "code",
   "execution_count": null,
   "metadata": {},
   "outputs": [],
   "source": []
  },
  {
   "cell_type": "markdown",
   "metadata": {},
   "source": [
    "#### B-10\n",
    "__B-9__のリストは先頭から月順に値が入ってる。\n",
    "あなたは上司から7~9月のデータのみ抽出するよう依頼を受けた。\n",
    "問7で作成したリストの7月から9月の合計３ヶ月間の降水量を取り出しなさい。  \n",
    "__ここでは１行しか記入してはいけないものとする。__"
   ]
  },
  {
   "cell_type": "code",
   "execution_count": null,
   "metadata": {},
   "outputs": [],
   "source": []
  },
  {
   "cell_type": "markdown",
   "metadata": {},
   "source": [
    "#### B-11\n",
    "Q9のリストは先頭から月順に値が入っている。  \n",
    "あなたは一年間の降水量が気になった。  \n",
    "Q9で作成したリストの平均値を求めなさい。  \n",
    "なお、この問題では'12'の数値は利用できない。  \n",
    "また、この問題以外のプログラムに流用できるように作成しなさい。  \n",
    "_--> 例えば長さが１０のリストが渡されても正常に動作できるようにしなさい。_  "
   ]
  },
  {
   "cell_type": "code",
   "execution_count": null,
   "metadata": {},
   "outputs": [],
   "source": []
  },
  {
   "cell_type": "markdown",
   "metadata": {},
   "source": [
    "#### B-12\n",
    "__日本の休日は以下の通りです。__\n",
    "\n",
    "|日にち|名称|\n",
    "|--:|:--|\n",
    "|1/01|元日|\n",
    "|1/02|振替休日|\n",
    "|1/09|成人の日|\n",
    "|2/11|建国記念の日|\n",
    "|3/20|春分の日|\n",
    "|4/29|昭和の日|\n",
    "|5/03|憲法記念日|\n",
    "|5/04|みどりの日|\n",
    "|5/05|こどもの日|\n",
    "|7/17|海の日|\n",
    "|8/11|山の日|\n",
    "|9/18|敬老の日|\n",
    "|9/23|秋分の日|\n",
    "|10/09|体育の日|\n",
    "|11/03|文化の日|\n",
    "|11/23|勤労感謝の日|\n",
    "|12/23|天皇誕生日|\n",
    "\n",
    "このデータを元に、祝日の日にちから名称を参照できる辞書型を作成しなさい。\n",
    "\n",
    "  \n",
    "\n",
    "変数名：`japanese_holiday`\n",
    "\n",
    "例:  \n",
    "`In []:` *japanese_holiday[\"5/05\"]*  \n",
    "`Out[]:` **こどもの日**"
   ]
  },
  {
   "cell_type": "code",
   "execution_count": null,
   "metadata": {},
   "outputs": [],
   "source": []
  },
  {
   "cell_type": "markdown",
   "metadata": {},
   "source": [
    "## <a style='color:red'>_Level : Advanced_</a>"
   ]
  },
  {
   "cell_type": "markdown",
   "metadata": {},
   "source": [
    "#### C-1\n",
    "入力したリスト2つを結合して、一つの辞書型にする関数を作成しなさい\n",
    "\n",
    "ex. )\n",
    "``` python\n",
    "<<< [IN] : data = func( ['taro', 'jiro', 'saburo'], [2500, 2000, 1000] )  \n",
    "<<< [IN] : data  \n",
    ">>> [OUT]: {'taro': 2000, 'jiro': 1000, 'taburo': 2500}  \n",
    "    ```"
   ]
  },
  {
   "cell_type": "code",
   "execution_count": null,
   "metadata": {},
   "outputs": [],
   "source": []
  },
  {
   "cell_type": "markdown",
   "metadata": {},
   "source": [
    "#### C-2\n",
    "とある団体に所属している10人の年齢を入手した。\n",
    "\n",
    "||年齢|\n",
    "|---|:-:|\n",
    "||20|\n",
    "||33|\n",
    "||29|\n",
    "||29|\n",
    "||37|\n",
    "||37|\n",
    "||31|\n",
    "||20|\n",
    "||34|\n",
    "||24|\n",
    "\n",
    "これをリストにしなさい\n",
    "変数名: `person_age`"
   ]
  },
  {
   "cell_type": "code",
   "execution_count": null,
   "metadata": {},
   "outputs": [],
   "source": []
  },
  {
   "cell_type": "markdown",
   "metadata": {},
   "source": [
    "#### C-3\n",
    "__C-2__で作成した `person_age`を使い、全員の年齢の平均を出力しなさい。\n",
    "ここではsum関数とfor以外の構文は使用できないものとする。\n",
    "\n",
    "例)  for _ in range(10): : range() 関数を使っているため不正解\n",
    "\n",
    "変数名: `person_age_average`"
   ]
  },
  {
   "cell_type": "code",
   "execution_count": null,
   "metadata": {},
   "outputs": [],
   "source": []
  },
  {
   "cell_type": "markdown",
   "metadata": {},
   "source": [
    "#### C-4\n",
    "リスト内包表記を用いてFizzBuzzゲームを作成しなさい"
   ]
  },
  {
   "cell_type": "code",
   "execution_count": null,
   "metadata": {},
   "outputs": [],
   "source": []
  },
  {
   "cell_type": "markdown",
   "metadata": {},
   "source": [
    "#### C-5\n",
    "以下のテキストの全ての単語を小文字に変換し各単語の出現回数をカウントしなさい"
   ]
  },
  {
   "cell_type": "code",
   "execution_count": null,
   "metadata": {},
   "outputs": [],
   "source": [
    "text = '''\n",
    "Look at the stars\n",
    "Look how they shine for you\n",
    "And everything you do\n",
    "Yeah they were all yellow\n",
    "I came along\n",
    "I wrote a song for you\n",
    "And all the things you do\n",
    "And it was called yellow\n",
    "So then I took my turn\n",
    "Oh what a thing to have done\n",
    "And it was all yellow\n",
    "Your skin\n",
    "Oh yeah your skin and bones\n",
    "Turn into something beautiful\n",
    "You know you know I love you so\n",
    "You know I love you so\n",
    "I swam across\n",
    "I jumped across for you\n",
    "Oh what a thing to do\n",
    "Cause you were all yellow\n",
    "I drew a line\n",
    "I drew a line for you\n",
    "Oh what a thing to do\n",
    "And it was all yellow\n",
    "Your skin\n",
    "Oh yeah your skin and bones\n",
    "Turn into something beautiful\n",
    "And you know\n",
    "For you I'd bleed myself dry\n",
    "For you I'd bleed myself dry\n",
    "It's true\n",
    "Look how they shine for you\n",
    "Look how they shine for you\n",
    "Look how they shine for\n",
    "Look how they shine for you\n",
    "Look how they shine for you\n",
    "Look how they shine\n",
    "Look at the stars\n",
    "Look how they shine for you\n",
    "And all the things that you do\n",
    "'''"
   ]
  },
  {
   "cell_type": "code",
   "execution_count": null,
   "metadata": {},
   "outputs": [],
   "source": []
  },
  {
   "cell_type": "markdown",
   "metadata": {},
   "source": [
    "#### C-6\n",
    "以下のリストには牛丼チェーン店が入っている。優柔不断でどこの店で食べるか決められない私はプログラムに決めてもらうことにした。\n",
    " `randomモジュール` を使用してリストの中から一つ出力させるプログラムを完成させなさい"
   ]
  },
  {
   "cell_type": "code",
   "execution_count": 1,
   "metadata": {},
   "outputs": [],
   "source": [
    "shops = [\n",
    "    '吉野家',\n",
    "    'すき家',\n",
    "    '松屋',\n",
    "]"
   ]
  },
  {
   "cell_type": "code",
   "execution_count": null,
   "metadata": {},
   "outputs": [],
   "source": []
  },
  {
   "cell_type": "markdown",
   "metadata": {},
   "source": [
    "#### C-7\n",
    "Q24の `shops` に「丸亀製麺」、「マクドナルド」、「安楽亭」を追加して「松屋」を消去してください"
   ]
  },
  {
   "cell_type": "code",
   "execution_count": null,
   "metadata": {},
   "outputs": [],
   "source": []
  },
  {
   "cell_type": "markdown",
   "metadata": {},
   "source": [
    " #### C-8\n",
    "キーボードから人数を入力してもらい、遊園地の料金を計算するプログラムを自分なりに工夫して作成しなさい。  \n",
    "  \n",
    "    \n",
    "ー詳細ー  \n",
    "大人：1000円　 \n",
    "\n",
    "シニア(65歳以上)：800円  \n",
    "\n",
    "小人：700円  \n",
    "\n",
    "＊団体割(合計人数７人以上で適用)：全体料金から10%off"
   ]
  },
  {
   "cell_type": "code",
   "execution_count": null,
   "metadata": {},
   "outputs": [],
   "source": []
  }
 ],
 "metadata": {
  "kernelspec": {
   "display_name": "Python 3",
   "language": "python",
   "name": "python3"
  },
  "language_info": {
   "codemirror_mode": {
    "name": "ipython",
    "version": 3
   },
   "file_extension": ".py",
   "mimetype": "text/x-python",
   "name": "python",
   "nbconvert_exporter": "python",
   "pygments_lexer": "ipython3",
   "version": "3.6.4"
  }
 },
 "nbformat": 4,
 "nbformat_minor": 2
}
