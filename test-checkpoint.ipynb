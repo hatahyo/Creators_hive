{
 "cells": [
  {
   "cell_type": "markdown",
   "metadata": {},
   "source": [
    "# Pythonコース　実力テスト"
   ]
  },
  {
   "cell_type": "markdown",
   "metadata": {},
   "source": [
    "Bチームへの昇格条件  \n",
    "pythonの文法を自在に扱えること"
   ]
  },
  {
   "cell_type": "markdown",
   "metadata": {},
   "source": [
    "## 問題1\n",
    "input関数を利用してユーザーから整数を入力してもらい。  \n",
    "偶数か奇数かを判定しなさい。   \n",
    "\n",
    "例：  \n",
    "整数を入力してください。  \n",
    "< 1  \n",
    "この数字は奇数です。  "
   ]
  },
  {
   "cell_type": "code",
   "execution_count": 7,
   "metadata": {},
   "outputs": [
    {
     "name": "stdout",
     "output_type": "stream",
     "text": [
      "5\n"
     ]
    }
   ],
   "source": [
    "x=int(input())"
   ]
  },
  {
   "cell_type": "code",
   "execution_count": 8,
   "metadata": {},
   "outputs": [
    {
     "name": "stdout",
     "output_type": "stream",
     "text": [
      "5\n"
     ]
    }
   ],
   "source": [
    "print(x)"
   ]
  },
  {
   "cell_type": "code",
   "execution_count": 11,
   "metadata": {},
   "outputs": [
    {
     "name": "stdout",
     "output_type": "stream",
     "text": [
      "4\n",
      "この数字は偶数です\n"
     ]
    }
   ],
   "source": [
    "x=int(input())\n",
    "if x%2==0:\n",
    "    print('この数字は偶数です')\n",
    "else:\n",
    "    print('この数字は奇数です')"
   ]
  },
  {
   "cell_type": "markdown",
   "metadata": {},
   "source": [
    "## 問題2\n",
    "1~100までの数字を出力しなさい。  \n",
    "その時出力する値が3の倍数、もしくは3がつく整数の時は数字に「(アホ）」と付け加えて出力しなさい。  \n",
    "\n",
    "例：  \n",
    "1  \n",
    "2  \n",
    "3(アホ)  \n",
    "4  \n",
    ".  \n",
    ".  "
   ]
  },
  {
   "cell_type": "code",
   "execution_count": 68,
   "metadata": {},
   "outputs": [
    {
     "name": "stdout",
     "output_type": "stream",
     "text": [
      "1\n",
      "2\n",
      "3 (アホ)\n",
      "4\n",
      "5\n",
      "6 (アホ)\n",
      "7\n",
      "8\n",
      "9 (アホ)\n",
      "10\n",
      "11\n",
      "12 (アホ)\n",
      "13 (アホ)\n",
      "14\n",
      "15 (アホ)\n",
      "16\n",
      "17\n",
      "18 (アホ)\n",
      "19\n",
      "20\n",
      "21 (アホ)\n",
      "22\n",
      "23 (アホ)\n",
      "24 (アホ)\n",
      "25\n",
      "26\n",
      "27 (アホ)\n",
      "28\n",
      "29\n",
      "30 (アホ)\n",
      "31 (アホ)\n",
      "32 (アホ)\n",
      "33 (アホ)\n",
      "34 (アホ)\n",
      "35 (アホ)\n",
      "36 (アホ)\n",
      "37 (アホ)\n",
      "38 (アホ)\n",
      "39 (アホ)\n",
      "40\n",
      "41\n",
      "42 (アホ)\n",
      "43 (アホ)\n",
      "44\n",
      "45 (アホ)\n",
      "46\n",
      "47\n",
      "48 (アホ)\n",
      "49\n",
      "50\n",
      "51 (アホ)\n",
      "52\n",
      "53 (アホ)\n",
      "54 (アホ)\n",
      "55\n",
      "56\n",
      "57 (アホ)\n",
      "58\n",
      "59\n",
      "60 (アホ)\n",
      "61\n",
      "62\n",
      "63 (アホ)\n",
      "64\n",
      "65\n",
      "66 (アホ)\n",
      "67\n",
      "68\n",
      "69 (アホ)\n",
      "70\n",
      "71\n",
      "72 (アホ)\n",
      "73 (アホ)\n",
      "74\n",
      "75 (アホ)\n",
      "76\n",
      "77\n",
      "78 (アホ)\n",
      "79\n",
      "80\n",
      "81 (アホ)\n",
      "82\n",
      "83 (アホ)\n",
      "84 (アホ)\n",
      "85\n",
      "86\n",
      "87 (アホ)\n",
      "88\n",
      "89\n",
      "90 (アホ)\n",
      "91\n",
      "92\n",
      "93 (アホ)\n",
      "94\n",
      "95\n",
      "96 (アホ)\n",
      "97\n",
      "98\n",
      "99 (アホ)\n",
      "100\n"
     ]
    }
   ],
   "source": [
    "for x in range(1,101):\n",
    "    if x%3==0 or '3' in str(x):\n",
    "        print(x,'(アホ)')\n",
    "    else:\n",
    "        print(x)\n",
    "        \n",
    "        \n",
    "        \n",
    "\n"
   ]
  },
  {
   "cell_type": "markdown",
   "metadata": {},
   "source": [
    "## 問題3\n",
    "1~100までの数字で以下の全ての条件に成り立つ場合のみ出力しなさい。  \n",
    "* 条件１：偶数\n",
    "* 条件２：3で割ると2余る　または　7がつく整数"
   ]
  },
  {
   "cell_type": "code",
   "execution_count": 77,
   "metadata": {},
   "outputs": [
    {
     "name": "stdout",
     "output_type": "stream",
     "text": [
      "2\n",
      "8\n",
      "14\n",
      "20\n",
      "26\n",
      "32\n",
      "38\n",
      "44\n",
      "50\n",
      "56\n",
      "62\n",
      "68\n",
      "70\n",
      "72\n",
      "74\n",
      "76\n",
      "78\n",
      "80\n",
      "86\n",
      "92\n",
      "98\n"
     ]
    }
   ],
   "source": [
    "for x in range(1,101):\n",
    "    if x%2==0 and(x%3==2 or '7' in str(x)):\n",
    "        print(x)\n",
    "        \n",
    "    \n",
    "    "
   ]
  },
  {
   "cell_type": "markdown",
   "metadata": {},
   "source": [
    "## 問題4\n",
    "以下の都道府県のリストがあります。  \n",
    "このリストを使って次の問いに答えなさい。  "
   ]
  },
  {
   "cell_type": "code",
   "execution_count": 2,
   "metadata": {},
   "outputs": [],
   "source": [
    "todouhuken = ['北海道','青森県','岩手県','宮城県','秋田県','山形県','福島県','茨城県','栃木県','群馬県','埼玉県','千葉県','東京都','神奈川県','新潟県','富山県','石川県','福井県','山梨県','長野県','岐阜県','静岡県','愛知県','三重県','滋賀県','京都府','大阪府','兵庫県','奈良県','和歌山県','鳥取県','島根県','岡山県','広島県','山口県','徳島県','香川県','愛媛県','高知県','福岡県','佐賀県','長崎県','熊本県','大分県','宮崎県','鹿児島県','沖縄県']"
   ]
  },
  {
   "cell_type": "markdown",
   "metadata": {},
   "source": [
    "## 問題4-1\n",
    "リストの個数を出力しなさい。"
   ]
  },
  {
   "cell_type": "code",
   "execution_count": 23,
   "metadata": {},
   "outputs": [
    {
     "data": {
      "text/plain": [
       "47"
      ]
     },
     "execution_count": 23,
     "metadata": {},
     "output_type": "execute_result"
    }
   ],
   "source": [
    "len(todouhuken)"
   ]
  },
  {
   "cell_type": "code",
   "execution_count": 40,
   "metadata": {},
   "outputs": [
    {
     "data": {
      "text/plain": [
       "True"
      ]
     },
     "execution_count": 40,
     "metadata": {},
     "output_type": "execute_result"
    }
   ],
   "source": [
    "'府' in '大阪府'"
   ]
  },
  {
   "cell_type": "markdown",
   "metadata": {},
   "source": [
    "## 問題4-2\n",
    "府が含まれるものを出力しなさい"
   ]
  },
  {
   "cell_type": "code",
   "execution_count": 6,
   "metadata": {},
   "outputs": [
    {
     "name": "stdout",
     "output_type": "stream",
     "text": [
      "京都府\n",
      "大阪府\n"
     ]
    }
   ],
   "source": [
    "for x in todouhuken:\n",
    "    #print(x)\n",
    "    if'府'in x:\n",
    "        print(x)\n",
    "        \n"
   ]
  },
  {
   "cell_type": "markdown",
   "metadata": {},
   "source": [
    "## 問題4-3\n",
    "都道府県リストの中で'山'という漢字が何個あるか出力しなさい"
   ]
  },
  {
   "cell_type": "code",
   "execution_count": 51,
   "metadata": {},
   "outputs": [
    {
     "data": {
      "text/plain": [
       "6"
      ]
     },
     "execution_count": 51,
     "metadata": {},
     "output_type": "execute_result"
    }
   ],
   "source": [
    "str(todouhuken).count('山')\n",
    "    "
   ]
  },
  {
   "cell_type": "markdown",
   "metadata": {},
   "source": [
    "## 問題5\n",
    "以下の成績表がある  \n",
    "このリストを利用して次の問題に答えよ"
   ]
  },
  {
   "cell_type": "code",
   "execution_count": 83,
   "metadata": {},
   "outputs": [],
   "source": [
    "import numpy as np\n",
    "import random\n",
    "np.random.seed(seed=32)\n",
    "class_choice = [random.choice([\"A\", \"B\", \"C\"]) for _ in range(100)]\n",
    "test_score = [{\"英語\":int(score[0]), \"数学\":int(score[1]), \"国語\":int(score[2]), \"クラス\":C} for score, C in zip(np.random.normal(50, 15, (100, 3)), class_choice)]"
   ]
  },
  {
   "cell_type": "code",
   "execution_count": null,
   "metadata": {},
   "outputs": [],
   "source": []
  },
  {
   "cell_type": "code",
   "execution_count": 84,
   "metadata": {
    "scrolled": true
   },
   "outputs": [
    {
     "data": {
      "text/plain": [
       "[{'クラス': 'B', '国語': 58, '数学': 64, '英語': 44},\n",
       " {'クラス': 'A', '国語': 58, '数学': 61, '英語': 51},\n",
       " {'クラス': 'A', '国語': 46, '数学': 74, '英語': 72},\n",
       " {'クラス': 'B', '国語': 79, '数学': 39, '英語': 39},\n",
       " {'クラス': 'C', '国語': 41, '数学': 56, '英語': 77},\n",
       " {'クラス': 'C', '国語': 55, '数学': 72, '英語': 51},\n",
       " {'クラス': 'C', '国語': 57, '数学': 63, '英語': 48},\n",
       " {'クラス': 'A', '国語': 43, '数学': 55, '英語': 37},\n",
       " {'クラス': 'A', '国語': 42, '数学': 42, '英語': 50},\n",
       " {'クラス': 'C', '国語': 60, '数学': 66, '英語': 36},\n",
       " {'クラス': 'B', '国語': 100, '数学': 68, '英語': 33},\n",
       " {'クラス': 'B', '国語': 22, '数学': 44, '英語': 37},\n",
       " {'クラス': 'B', '国語': 72, '数学': 55, '英語': 50},\n",
       " {'クラス': 'C', '国語': 39, '数学': 64, '英語': 39},\n",
       " {'クラス': 'B', '国語': 23, '数学': 49, '英語': 46},\n",
       " {'クラス': 'A', '国語': 64, '数学': 25, '英語': 37},\n",
       " {'クラス': 'C', '国語': 50, '数学': 54, '英語': 50},\n",
       " {'クラス': 'B', '国語': 47, '数学': 51, '英語': 33},\n",
       " {'クラス': 'C', '国語': 72, '数学': 45, '英語': 29},\n",
       " {'クラス': 'C', '国語': 44, '数学': 40, '英語': 69},\n",
       " {'クラス': 'A', '国語': 24, '数学': 41, '英語': 14},\n",
       " {'クラス': 'A', '国語': 23, '数学': 56, '英語': 30},\n",
       " {'クラス': 'B', '国語': 64, '数学': 44, '英語': 71},\n",
       " {'クラス': 'A', '国語': 39, '数学': 36, '英語': 60},\n",
       " {'クラス': 'A', '国語': 42, '数学': 50, '英語': 33},\n",
       " {'クラス': 'B', '国語': 70, '数学': 71, '英語': 39},\n",
       " {'クラス': 'B', '国語': 43, '数学': 53, '英語': 75},\n",
       " {'クラス': 'A', '国語': 53, '数学': 53, '英語': 67},\n",
       " {'クラス': 'C', '国語': 37, '数学': 64, '英語': 76},\n",
       " {'クラス': 'A', '国語': 44, '数学': 45, '英語': 27},\n",
       " {'クラス': 'A', '国語': 56, '数学': 72, '英語': 57},\n",
       " {'クラス': 'B', '国語': 42, '数学': 29, '英語': 51},\n",
       " {'クラス': 'A', '国語': 31, '数学': 51, '英語': 69},\n",
       " {'クラス': 'B', '国語': 37, '数学': 27, '英語': 56},\n",
       " {'クラス': 'A', '国語': 38, '数学': 62, '英語': 34},\n",
       " {'クラス': 'B', '国語': 51, '数学': 75, '英語': 63},\n",
       " {'クラス': 'C', '国語': 80, '数学': 32, '英語': 45},\n",
       " {'クラス': 'C', '国語': 51, '数学': 58, '英語': 49},\n",
       " {'クラス': 'B', '国語': 30, '数学': 55, '英語': 45},\n",
       " {'クラス': 'C', '国語': 49, '数学': 41, '英語': 78},\n",
       " {'クラス': 'A', '国語': 69, '数学': 46, '英語': 50},\n",
       " {'クラス': 'C', '国語': 71, '数学': 55, '英語': 22},\n",
       " {'クラス': 'C', '国語': 70, '数学': 43, '英語': 44},\n",
       " {'クラス': 'A', '国語': 76, '数学': 27, '英語': 47},\n",
       " {'クラス': 'B', '国語': 68, '数学': 34, '英語': 71},\n",
       " {'クラス': 'C', '国語': 14, '数学': 42, '英語': 57},\n",
       " {'クラス': 'B', '国語': 41, '数学': 72, '英語': 55},\n",
       " {'クラス': 'B', '国語': 44, '数学': 45, '英語': 39},\n",
       " {'クラス': 'A', '国語': 37, '数学': 76, '英語': 58},\n",
       " {'クラス': 'B', '国語': 48, '数学': 68, '英語': 57},\n",
       " {'クラス': 'A', '国語': 61, '数学': 52, '英語': 65},\n",
       " {'クラス': 'A', '国語': 69, '数学': 37, '英語': 43},\n",
       " {'クラス': 'C', '国語': 57, '数学': 46, '英語': 68},\n",
       " {'クラス': 'A', '国語': 42, '数学': 43, '英語': 23},\n",
       " {'クラス': 'B', '国語': 59, '数学': 47, '英語': 91},\n",
       " {'クラス': 'A', '国語': 51, '数学': 51, '英語': 72},\n",
       " {'クラス': 'A', '国語': 55, '数学': 62, '英語': 53},\n",
       " {'クラス': 'C', '国語': 33, '数学': 36, '英語': 44},\n",
       " {'クラス': 'B', '国語': 26, '数学': 42, '英語': 44},\n",
       " {'クラス': 'A', '国語': 48, '数学': 52, '英語': 58},\n",
       " {'クラス': 'A', '国語': 59, '数学': 64, '英語': 66},\n",
       " {'クラス': 'A', '国語': 54, '数学': 51, '英語': 51},\n",
       " {'クラス': 'A', '国語': 54, '数学': 44, '英語': 88},\n",
       " {'クラス': 'B', '国語': 67, '数学': 53, '英語': 49},\n",
       " {'クラス': 'B', '国語': 38, '数学': 54, '英語': 54},\n",
       " {'クラス': 'A', '国語': 54, '数学': 53, '英語': 38},\n",
       " {'クラス': 'A', '国語': 60, '数学': 28, '英語': 66},\n",
       " {'クラス': 'A', '国語': 50, '数学': 33, '英語': 61},\n",
       " {'クラス': 'A', '国語': 24, '数学': 44, '英語': 88},\n",
       " {'クラス': 'A', '国語': 49, '数学': 23, '英語': 51},\n",
       " {'クラス': 'C', '国語': 64, '数学': 55, '英語': 51},\n",
       " {'クラス': 'A', '国語': 48, '数学': 54, '英語': 56},\n",
       " {'クラス': 'B', '国語': 46, '数学': 63, '英語': 36},\n",
       " {'クラス': 'A', '国語': 48, '数学': 76, '英語': 35},\n",
       " {'クラス': 'C', '国語': 47, '数学': 63, '英語': 31},\n",
       " {'クラス': 'A', '国語': 67, '数学': 74, '英語': 43},\n",
       " {'クラス': 'A', '国語': 43, '数学': 59, '英語': 56},\n",
       " {'クラス': 'A', '国語': 65, '数学': 70, '英語': 43},\n",
       " {'クラス': 'B', '国語': 70, '数学': 51, '英語': 71},\n",
       " {'クラス': 'A', '国語': 42, '数学': 70, '英語': 57},\n",
       " {'クラス': 'C', '国語': 49, '数学': 34, '英語': 55},\n",
       " {'クラス': 'A', '国語': 42, '数学': 66, '英語': 23},\n",
       " {'クラス': 'A', '国語': 55, '数学': 48, '英語': 32},\n",
       " {'クラス': 'A', '国語': 77, '数学': 19, '英語': 64},\n",
       " {'クラス': 'B', '国語': 32, '数学': 48, '英語': 36},\n",
       " {'クラス': 'A', '国語': 33, '数学': 47, '英語': 93},\n",
       " {'クラス': 'B', '国語': 61, '数学': 31, '英語': 36},\n",
       " {'クラス': 'A', '国語': 16, '数学': 35, '英語': 61},\n",
       " {'クラス': 'A', '国語': 62, '数学': 43, '英語': 47},\n",
       " {'クラス': 'B', '国語': 50, '数学': 49, '英語': 42},\n",
       " {'クラス': 'A', '国語': 62, '数学': 66, '英語': 40},\n",
       " {'クラス': 'C', '国語': 62, '数学': 47, '英語': 53},\n",
       " {'クラス': 'C', '国語': 72, '数学': 54, '英語': 48},\n",
       " {'クラス': 'C', '国語': 44, '数学': 35, '英語': 49},\n",
       " {'クラス': 'A', '国語': 28, '数学': 23, '英語': 48},\n",
       " {'クラス': 'B', '国語': 36, '数学': 52, '英語': 38},\n",
       " {'クラス': 'C', '国語': 30, '数学': 57, '英語': 61},\n",
       " {'クラス': 'C', '国語': 55, '数学': 47, '英語': 37},\n",
       " {'クラス': 'A', '国語': 66, '数学': 57, '英語': 53},\n",
       " {'クラス': 'A', '国語': 51, '数学': 68, '英語': 50}]"
      ]
     },
     "execution_count": 84,
     "metadata": {},
     "output_type": "execute_result"
    }
   ],
   "source": [
    "test_score"
   ]
  },
  {
   "cell_type": "code",
   "execution_count": 85,
   "metadata": {},
   "outputs": [
    {
     "ename": "SyntaxError",
     "evalue": "unexpected EOF while parsing (<ipython-input-85-0609ea53f165>, line 2)",
     "output_type": "error",
     "traceback": [
      "\u001b[1;36m  File \u001b[1;32m\"<ipython-input-85-0609ea53f165>\"\u001b[1;36m, line \u001b[1;32m2\u001b[0m\n\u001b[1;33m    #print(i['国語'])\u001b[0m\n\u001b[1;37m                   ^\u001b[0m\n\u001b[1;31mSyntaxError\u001b[0m\u001b[1;31m:\u001b[0m unexpected EOF while parsing\n"
     ]
    }
   ],
   "source": [
    "for i in test_score:\n",
    "    #print(i['国語'])"
   ]
  },
  {
   "cell_type": "markdown",
   "metadata": {},
   "source": [
    "## 問題5-1\n",
    "科目別の平均点、最高点を求めよ  "
   ]
  },
  {
   "cell_type": "code",
   "execution_count": 86,
   "metadata": {},
   "outputs": [
    {
     "name": "stdout",
     "output_type": "stream",
     "text": [
      "数学の平均点は50.86最高点は76です\n",
      "国語の平均点は50.47最高点は100です\n",
      "英語の平均点は50.85最高点は93です\n"
     ]
    }
   ],
   "source": [
    "suugaku_list =[]\n",
    "for score in test_score:\n",
    "    suugaku_list.append(score[\"数学\"])\n",
    "ave_s=sum(suugaku_list)/100\n",
    "print('数学の平均点は'+str(ave_s)+'最高点は'+str(max(suugaku_list))+'です')\n",
    "kokugo_list =[]\n",
    "for score in test_score:\n",
    "    kokugo_list.append(score[\"国語\"])\n",
    "ave_k=sum(kokugo_list)/100\n",
    "print('国語の平均点は'+str(ave_k)+'最高点は'+str(max(kokugo_list))+'です')\n",
    "eigo_list =[]\n",
    "for score in test_score:\n",
    "    eigo_list.append(score[\"英語\"])\n",
    "ave_e=sum(eigo_list)/100\n",
    "print('英語の平均点は'+str(ave_e)+'最高点は'+str(max(eigo_list))+'です')\n"
   ]
  },
  {
   "cell_type": "code",
   "execution_count": 87,
   "metadata": {},
   "outputs": [
    {
     "ename": "AttributeError",
     "evalue": "'int' object has no attribute 'values'",
     "output_type": "error",
     "traceback": [
      "\u001b[1;31m---------------------------------------------------------------------------\u001b[0m",
      "\u001b[1;31mAttributeError\u001b[0m                            Traceback (most recent call last)",
      "\u001b[1;32m<ipython-input-87-3baaa95937c4>\u001b[0m in \u001b[0;36m<module>\u001b[1;34m()\u001b[0m\n\u001b[1;32m----> 1\u001b[1;33m \u001b[0mx\u001b[0m\u001b[1;33m.\u001b[0m\u001b[0mvalues\u001b[0m\u001b[1;33m(\u001b[0m\u001b[1;33m)\u001b[0m\u001b[1;33m\u001b[0m\u001b[0m\n\u001b[0m",
      "\u001b[1;31mAttributeError\u001b[0m: 'int' object has no attribute 'values'"
     ]
    }
   ],
   "source": [
    "x.values()"
   ]
  },
  {
   "cell_type": "code",
   "execution_count": 88,
   "metadata": {},
   "outputs": [],
   "source": [
    "li=[]\n",
    "for n in range(len(test_score)):\n",
    "    #print(test_score[n]['国語'])\n",
    "    li.append(test_score[n]['国語'])"
   ]
  },
  {
   "cell_type": "code",
   "execution_count": 89,
   "metadata": {},
   "outputs": [
    {
     "data": {
      "text/plain": [
       "5047"
      ]
     },
     "execution_count": 89,
     "metadata": {},
     "output_type": "execute_result"
    }
   ],
   "source": [
    "sum(li)"
   ]
  },
  {
   "cell_type": "markdown",
   "metadata": {},
   "source": [
    "## 問題5-2\n",
    "各クラスの生徒数を求めよ"
   ]
  },
  {
   "cell_type": "code",
   "execution_count": 90,
   "metadata": {},
   "outputs": [
    {
     "name": "stdout",
     "output_type": "stream",
     "text": [
      "Aクラスの人数は47\n",
      "Bクラスの人数は28\n",
      "Cクラスの人数は25\n"
     ]
    }
   ],
   "source": [
    "\n",
    "#for c in test_score:\n",
    "    #print(c['クラス'])\n",
    "\n",
    "x=str(test_score).count('A')\n",
    "y=str(test_score).count('B')\n",
    "z=str(test_score).count('C')\n",
    "print('Aクラスの人数は'+str(x)+'\\n'+'Bクラスの人数は'+str(y)+'\\n'+'Cクラスの人数は'+str(z))\n"
   ]
  },
  {
   "cell_type": "markdown",
   "metadata": {},
   "source": [
    "## 問題5-3\n",
    "各クラスごとに科目ごとに平均点を出力しなさい"
   ]
  },
  {
   "cell_type": "code",
   "execution_count": 117,
   "metadata": {},
   "outputs": [
    {
     "name": "stdout",
     "output_type": "stream",
     "text": [
      "Aクラスの英語の平均点は51.42553191489362最高点は93です\n",
      "Aクラスの数学の平均点は50.723404255319146最高点は76です\n",
      "Aクラスの国語の平均点は49.361702127659576最高点は77です\n",
      "Bクラスの英語の平均点は50.035714285714285最高点は91です\n",
      "Bクラスの数学の平均点は51.17857142857143最高点は75です\n",
      "Bクラスの国語の平均点は50.857142857142854最高点は100です\n",
      "Cクラスの英語の平均点は50.68最高点は78です\n",
      "Cクラスの数学の平均点は50.76最高点は72です\n",
      "Cクラスの国語の平均点は52.12最高点は80です\n"
     ]
    }
   ],
   "source": [
    "a=[] \n",
    "a_e=[]\n",
    "a_s=[]\n",
    "a_k=[]\n",
    "b=[]\n",
    "b_e=[]\n",
    "b_s=[]\n",
    "b_k=[]\n",
    "c=[]\n",
    "c_e=[]\n",
    "c_s=[]\n",
    "c_k=[]\n",
    "for score in test_score:\n",
    "    if score['クラス']=='A':\n",
    "        a.append(score)\n",
    "    elif score['クラス']=='B':\n",
    "        b.append(score)\n",
    "    else :\n",
    "        c.append(score)\n",
    "        \n",
    "        #print(score)\n",
    "for x in a:\n",
    "    a_e.append(x['英語'])\n",
    "    a_s.append(x['数学'])\n",
    "    a_k.append(x['国語'])\n",
    "ave_a_e=sum(a_e)/len(a_e)\n",
    "ave_a_s=sum(a_s)/len(a_s)\n",
    "ave_a_k=sum(a_k)/len(a_k)\n",
    "print('Aクラスの'+'英語の平均点は'+str(ave_a_e)+'最高点は'+str(max(a_e))+'です')\n",
    "print('Aクラスの'+'数学の平均点は'+str(ave_a_s)+'最高点は'+str(max(a_s))+'です')\n",
    "print('Aクラスの'+'国語の平均点は'+str(ave_a_k)+'最高点は'+str(max(a_k))+'です')\n",
    "for x in b:\n",
    "    b_e.append(x['英語'])\n",
    "    b_s.append(x['数学'])\n",
    "    b_k.append(x['国語'])\n",
    "ave_b_e=sum(b_e)/len(b_e)\n",
    "ave_b_s=sum(b_s)/len(b_s)\n",
    "ave_b_k=sum(b_k)/len(b_k)\n",
    "print('Bクラスの'+'英語の平均点は'+str(ave_b_e)+'最高点は'+str(max(b_e))+'です')\n",
    "print('Bクラスの'+'数学の平均点は'+str(ave_b_s)+'最高点は'+str(max(b_s))+'です')\n",
    "print('Bクラスの'+'国語の平均点は'+str(ave_b_k)+'最高点は'+str(max(b_k))+'です')\n",
    "for x in c:\n",
    "    c_e.append(x['英語'])\n",
    "    c_s.append(x['数学'])\n",
    "    c_k.append(x['国語'])\n",
    "ave_c_e=sum(c_e)/len(c_e)\n",
    "ave_c_s=sum(c_s)/len(c_s)\n",
    "ave_c_k=sum(c_k)/len(c_k)\n",
    "print('Cクラスの'+'英語の平均点は'+str(ave_c_e)+'最高点は'+str(max(c_e))+'です')\n",
    "print('Cクラスの'+'数学の平均点は'+str(ave_c_s)+'最高点は'+str(max(c_s))+'です')\n",
    "print('Cクラスの'+'国語の平均点は'+str(ave_c_k)+'最高点は'+str(max(c_k))+'です')\n",
    "    \n",
    "    "
   ]
  },
  {
   "cell_type": "markdown",
   "metadata": {},
   "source": [
    "## 問題6\n",
    "指定した文字列の中に指定した値が何個あるかを出力するような関数を作りなさい。  \n",
    "\n",
    "例：  \n",
    "指定する文字列1: \"hogehoge\"  \n",
    "指定する文字列2: \"o\"  \n",
    "出力結果： 2"
   ]
  },
  {
   "cell_type": "code",
   "execution_count": 120,
   "metadata": {},
   "outputs": [
    {
     "name": "stdout",
     "output_type": "stream",
     "text": [
      "2\n"
     ]
    }
   ],
   "source": [
    "def xx(a,b):\n",
    "    return a.count(b)\n",
    "print (xx('hogehoge','h'))"
   ]
  },
  {
   "cell_type": "code",
   "execution_count": null,
   "metadata": {},
   "outputs": [],
   "source": []
  }
 ],
 "metadata": {
  "kernelspec": {
   "display_name": "Python 3",
   "language": "python",
   "name": "python3"
  },
  "language_info": {
   "codemirror_mode": {
    "name": "ipython",
    "version": 3
   },
   "file_extension": ".py",
   "mimetype": "text/x-python",
   "name": "python",
   "nbconvert_exporter": "python",
   "pygments_lexer": "ipython3",
   "version": "3.6.4"
  }
 },
 "nbformat": 4,
 "nbformat_minor": 2
}
