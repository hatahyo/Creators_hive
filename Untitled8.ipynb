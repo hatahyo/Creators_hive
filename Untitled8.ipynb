{
 "cells": [
  {
   "cell_type": "code",
   "execution_count": 132,
   "metadata": {},
   "outputs": [
    {
     "name": "stdout",
     "output_type": "stream",
     "text": [
      "playerの引いたカードは[('spade', 'Q'), ('heart', '10')]です\n",
      "dealerの引いたカードは[('diamond', '5')]です\n",
      "あなたのスコアは20\n",
      "ディーラーのスコアは5\n"
     ]
    }
   ],
   "source": [
    "import random\n",
    "\n",
    "marks = ['club', 'diamond', 'heart', 'spade']\n",
    "card_num = [\"A\",\"1\",\"2\",\"3\",\"4\",\"5\",\"6\",\"7\",\"8\",\"9\",\"10\",\"J\",\"Q\",\"K\"]\n",
    "rank = {\"A\":1,\"1\":1,\"2\":2,\"3\":3,\"4\":4,\"5\":5,\"6\":6,\"7\":7,\"8\":8,\"9\":9,\"10\":10,\"J\":10,\"Q\":10,\"K\":10} \n",
    "\n",
    "cards = [(m, n) for m in marks for n in card_num]\n",
    "player_card=random.sample(cards, 2)\n",
    "dealer_card=random.sample(cards, 1)\n",
    "print(\"playerの引いたカードは\"+str(player_card)+\"です\")\n",
    "print(\"dealerの引いたカードは\"+str(dealer_card)+\"です\")\n",
    "player_result=0\n",
    "dealer_result=0\n",
    "print(\"あなたのスコアは\"+str(rank[player_card[0][1]]+rank[player_card[1][1]]))\n",
    "print(\"ディーラーのスコアは\"+str(rank[dealer_card[0][1]]))\n",
    "player_result += rank[player_card[0][1]]+rank[player_card[1][1]]\n",
    "for card in player_card:\n",
    "player_result += int(card[1])\n",
    "    \n",
    "    \n"
   ]
  },
  {
   "cell_type": "code",
   "execution_count": 115,
   "metadata": {},
   "outputs": [
    {
     "name": "stdout",
     "output_type": "stream",
     "text": [
      "club\n",
      "diamond\n",
      "heart\n",
      "spade\n"
     ]
    }
   ],
   "source": [
    "player_card[1][1]\n",
    "rank[\"K\"]\n",
    "for i in marks:\n",
    "    print(i)"
   ]
  },
  {
   "cell_type": "code",
   "execution_count": 73,
   "metadata": {},
   "outputs": [
    {
     "data": {
      "text/plain": [
       "'K'"
      ]
     },
     "execution_count": 73,
     "metadata": {},
     "output_type": "execute_result"
    }
   ],
   "source": [
    "player_card[0][1]"
   ]
  },
  {
   "cell_type": "code",
   "execution_count": 125,
   "metadata": {},
   "outputs": [
    {
     "ename": "IndentationError",
     "evalue": "unexpected indent (<ipython-input-125-1cbe500cdee8>, line 2)",
     "output_type": "error",
     "traceback": [
      "\u001b[1;36m  File \u001b[1;32m\"<ipython-input-125-1cbe500cdee8>\"\u001b[1;36m, line \u001b[1;32m2\u001b[0m\n\u001b[1;33m    print(\"ディーラーのスコアは\"+str(rank[dealer_card[0][1]]))\u001b[0m\n\u001b[1;37m    ^\u001b[0m\n\u001b[1;31mIndentationError\u001b[0m\u001b[1;31m:\u001b[0m unexpected indent\n"
     ]
    }
   ],
   "source": [
    "print(\"あなたのスコアは\"+str(rank[player_card[0][1]]+rank[player_card[1][1]]))\n",
    "    print(\"ディーラーのスコアは\"+str(rank[dealer_card[0][1]]))\n",
    "    player_result += rank[player_card[0][1]]+rank[player_card[1][1]]\n"
   ]
  },
  {
   "cell_type": "code",
   "execution_count": null,
   "metadata": {},
   "outputs": [],
   "source": [
    "for card in player_card:\n",
    "player_result += int(card[1])\n",
    "    "
   ]
  }
 ],
 "metadata": {
  "kernelspec": {
   "display_name": "Python 3",
   "language": "python",
   "name": "python3"
  },
  "language_info": {
   "codemirror_mode": {
    "name": "ipython",
    "version": 3
   },
   "file_extension": ".py",
   "mimetype": "text/x-python",
   "name": "python",
   "nbconvert_exporter": "python",
   "pygments_lexer": "ipython3",
   "version": "3.6.4"
  }
 },
 "nbformat": 4,
 "nbformat_minor": 2
}
