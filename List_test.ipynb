{
 "cells": [
  {
   "cell_type": "markdown",
   "metadata": {},
   "source": [
    "# Python Cコース リストマスター課題"
   ]
  },
  {
   "cell_type": "markdown",
   "metadata": {},
   "source": [
    "## 問題1\n",
    "ペットショップの入荷順の動物リストが以下のようにある.  \n",
    "このリストから3番目に早く入荷された動物を出力しなさい.  "
   ]
  },
  {
   "cell_type": "code",
   "execution_count": 9,
   "metadata": {},
   "outputs": [],
   "source": [
    "pet_list = [\"dog\", \"bird\", \"cat\", \"flog\", \"snake\"]"
   ]
  },
  {
   "cell_type": "code",
   "execution_count": 4,
   "metadata": {},
   "outputs": [
    {
     "name": "stdout",
     "output_type": "stream",
     "text": [
      "cat\n"
     ]
    }
   ],
   "source": [
    "print(pet_list[2])"
   ]
  },
  {
   "cell_type": "markdown",
   "metadata": {},
   "source": [
    "## 問題2\n",
    "ペットショップに新たにハムスター(rat)が入荷された.  \n",
    "pet_listにratを追加して,リストをfor文を使って出力しなさい."
   ]
  },
  {
   "cell_type": "code",
   "execution_count": 5,
   "metadata": {},
   "outputs": [
    {
     "name": "stdout",
     "output_type": "stream",
     "text": [
      "dog\n",
      "bird\n",
      "cat\n",
      "flog\n",
      "snake\n",
      "rat\n"
     ]
    }
   ],
   "source": [
    "pet_list.append(\"rat\")\n",
    "for i in pet_list:\n",
    "    print(i)"
   ]
  },
  {
   "cell_type": "markdown",
   "metadata": {},
   "source": [
    "## 問題3\n",
    "pet_listの中で文字列が4文字以上のものを出力しなさい."
   ]
  },
  {
   "cell_type": "code",
   "execution_count": 18,
   "metadata": {},
   "outputs": [
    {
     "name": "stdout",
     "output_type": "stream",
     "text": [
      "bird\n",
      "flog\n",
      "snake\n"
     ]
    }
   ],
   "source": [
    "for i in pet_list:\n",
    "    len(i)\n",
    "    if len(i)>=4:\n",
    "        print(i)"
   ]
  },
  {
   "cell_type": "markdown",
   "metadata": {},
   "source": [
    "## 問題4\n",
    "ペットの名前を入荷されてから遅い順に出力しなさい。  "
   ]
  },
  {
   "cell_type": "code",
   "execution_count": 19,
   "metadata": {},
   "outputs": [
    {
     "name": "stdout",
     "output_type": "stream",
     "text": [
      "snake\n",
      "flog\n",
      "cat\n",
      "bird\n",
      "dog\n"
     ]
    }
   ],
   "source": [
    "pet_list = [\"dog\", \"bird\", \"cat\", \"flog\", \"snake\"]\n",
    "for i in reversed(pet_list):\n",
    "    print(i)"
   ]
  },
  {
   "cell_type": "markdown",
   "metadata": {},
   "source": [
    "## 問題5\n",
    "ペットの名前に加え、ペットの年齢が書いてあるリストが以下にある.  \n",
    "このリストを利用して、猫の年齢を出力しなさい."
   ]
  },
  {
   "cell_type": "code",
   "execution_count": 35,
   "metadata": {},
   "outputs": [],
   "source": [
    "pet_agelist = [ [\"dog\", \"bird\", \"cat\", \"flog\", \"snake\", \"rat\"], [10, 4, 5, 1, 4, 3]]"
   ]
  },
  {
   "cell_type": "code",
   "execution_count": 49,
   "metadata": {},
   "outputs": [
    {
     "name": "stdout",
     "output_type": "stream",
     "text": [
      "5\n"
     ]
    }
   ],
   "source": [
    "pet_agelist = [ [\"dog\", \"bird\", \"cat\", \"flog\", \"snake\", \"rat\"], [10, 4, 5, 1, 4, 3]]\n",
    "i = (pet_agelist[0].index(\"cat\"))\n",
    "\n",
    "print(pet_agelist[1][i])\n"
   ]
  },
  {
   "cell_type": "markdown",
   "metadata": {},
   "source": [
    "## 問題6\n",
    "ペットの名前を年齢順に出力しなさい。  \n",
    "リストだけでは難しいので、辞書やラムダ式を使ってもいいものとする"
   ]
  },
  {
   "cell_type": "code",
   "execution_count": 72,
   "metadata": {},
   "outputs": [
    {
     "name": "stdout",
     "output_type": "stream",
     "text": [
      "rat 3\n",
      "bird 4\n",
      "snake 4\n",
      "cat 5\n",
      "dog 10\n"
     ]
    }
   ],
   "source": [
    "dic= dict(zip(pet_agelist[0], pet_agelist[1]))\n",
    "a = sorted(dic.items(),key=lambda x: x[1])\n",
    "for x,y in a:\n",
    "    print(x,y)"
   ]
  },
  {
   "cell_type": "markdown",
   "metadata": {},
   "source": [
    "## 問題7\n",
    "４歳のペットの数を出力しなさい。  \n",
    "ただしこのプログラムは一行のみしか出力できない。  "
   ]
  },
  {
   "cell_type": "code",
   "execution_count": 40,
   "metadata": {},
   "outputs": [
    {
     "name": "stdout",
     "output_type": "stream",
     "text": [
      "2\n"
     ]
    }
   ],
   "source": [
    "print(pet_agelist.count(4))"
   ]
  },
  {
   "cell_type": "markdown",
   "metadata": {},
   "source": [
    "## 問題8\n",
    "カエルが購入された。  \n",
    "リストからカエルのリストを削除しなさい。  "
   ]
  },
  {
   "cell_type": "code",
   "execution_count": 150,
   "metadata": {},
   "outputs": [
    {
     "name": "stdout",
     "output_type": "stream",
     "text": [
      "[['dog', 'bird', 'cat', 'snake', 'rat'], [10, 4, 5, 4, 3]]\n"
     ]
    }
   ],
   "source": [
    "pet_agelist = [ [\"dog\", \"bird\", \"cat\", \"flog\", \"snake\", \"rat\"], [10, 4, 5, 1, 4, 3]]\n",
    "pet_agelist[0].remove(\"flog\")\n",
    "pet_agelist[1].remove(1)\n",
    "print(pet_agelist)"
   ]
  },
  {
   "cell_type": "markdown",
   "metadata": {},
   "source": [
    "## 問題9\n",
    "年齢を加えたリストを利用して、名前と年齢をそれぞれ出力しなさい。    \n",
    "但し, For文とWhile文はどちらか一つしか使えないとする  \n",
    "出力例:  \n",
    "dog, 10  \n",
    "bird, 4"
   ]
  },
  {
   "cell_type": "code",
   "execution_count": 143,
   "metadata": {},
   "outputs": [
    {
     "name": "stdout",
     "output_type": "stream",
     "text": [
      "dog 10\n",
      "bird 4\n",
      "cat 5\n",
      "snake 4\n",
      "rat 3\n"
     ]
    }
   ],
   "source": [
    "dic=dict(zip(pet_agelist[0], pet_agelist[1]))\n",
    "for a,b in dic.items():\n",
    "    print(a,b)"
   ]
  },
  {
   "cell_type": "markdown",
   "metadata": {},
   "source": [
    "## 問題10\n",
    "pet_agelistを元にKeyを動物名,Valueを年齢とする辞書型の変数を作りなさい.  "
   ]
  },
  {
   "cell_type": "code",
   "execution_count": 152,
   "metadata": {},
   "outputs": [
    {
     "name": "stdout",
     "output_type": "stream",
     "text": [
      "{'dog': 10, 'bird': 4, 'cat': 5, 'snake': 4, 'rat': 3}\n"
     ]
    }
   ],
   "source": [
    "dic=dict(zip(pet_agelist[0], pet_agelist[1]))\n",
    "print(dic)"
   ]
  },
  {
   "cell_type": "markdown",
   "metadata": {},
   "source": [
    "## 問題11\n",
    "ペットショップに新たに7歳のトカゲ(lizard)が入荷された。  \n",
    "問題6で作った辞書型にトカゲを加えて、辞書の名前と年齢をFor文を使って出力しなさい。  "
   ]
  },
  {
   "cell_type": "code",
   "execution_count": 146,
   "metadata": {},
   "outputs": [
    {
     "name": "stdout",
     "output_type": "stream",
     "text": [
      "dog 10\n",
      "bird 4\n",
      "cat 5\n",
      "snake 4\n",
      "rat 3\n",
      "lizard 7\n"
     ]
    }
   ],
   "source": [
    "dic['lizard'] = 7\n",
    "\n",
    "for a, b in dic.items():\n",
    "    print(a, b)"
   ]
  },
  {
   "cell_type": "markdown",
   "metadata": {},
   "source": [
    "## 問題12\n",
    "辞書を使って5歳以下の動物の名前を出力しなさい。  "
   ]
  },
  {
   "cell_type": "code",
   "execution_count": 148,
   "metadata": {},
   "outputs": [
    {
     "name": "stdout",
     "output_type": "stream",
     "text": [
      "bird\n",
      "cat\n",
      "snake\n",
      "rat\n"
     ]
    }
   ],
   "source": [
    "for a, b in dic.items():\n",
    "    if b <= 5:\n",
    "        print(a)"
   ]
  },
  {
   "cell_type": "markdown",
   "metadata": {},
   "source": [
    "## 問題13\n",
    "以下にそれぞれの動物の入荷経過日数のリストがある  \n",
    "このリストの情報を辞書にいれなさい  \n",
    "辞書の入れ方の例：  \n",
    "\n",
    "```python\n",
    "test_list = { \"SeitoA\": [ 20, 30, 40],  \"SeitoB\": [99, 77, 50], \"SeitoC\": [88, 66, 30]}\n",
    "```"
   ]
  },
  {
   "cell_type": "code",
   "execution_count": 81,
   "metadata": {},
   "outputs": [],
   "source": [
    "day_list = [60, 45, 41, 30, 22, 19]"
   ]
  },
  {
   "cell_type": "code",
   "execution_count": 149,
   "metadata": {},
   "outputs": [
    {
     "name": "stdout",
     "output_type": "stream",
     "text": [
      "{'dog': [10, 60], 'bird': [4, 45], 'cat': [5, 41], 'lizard': [7, 30], 'snake': [4, 22], 'rat': [3, 19]}\n"
     ]
    }
   ],
   "source": [
    "keys = [\"dog\", \"bird\", \"cat\", \"lizard\", \"snake\", \"rat\"]\n",
    "values =  [10, 4, 5, 7, 4, 3]\n",
    "x = dict(zip(keys,values))\n",
    "for i in range(len(day_list)):\n",
    "    a = keys[i]\n",
    "    b = values[i]\n",
    "    c = day_list[i]\n",
    "    x[a] = [b,c]\n",
    "print(x)\n",
    "\n",
    "\n"
   ]
  },
  {
   "cell_type": "markdown",
   "metadata": {},
   "source": [
    "## 問題14\n",
    "入荷日数が30日以上経っていて5歳以上の動物を辞書を使って出力しなさい"
   ]
  },
  {
   "cell_type": "code",
   "execution_count": 153,
   "metadata": {},
   "outputs": [
    {
     "name": "stdout",
     "output_type": "stream",
     "text": [
      "dog\n",
      "cat\n",
      "lizard\n"
     ]
    }
   ],
   "source": [
    "for keys, values in x.items():\n",
    "    if values[1] >= 30 and values[0] >= 5:\n",
    "        print(keys)"
   ]
  },
  {
   "cell_type": "code",
   "execution_count": null,
   "metadata": {},
   "outputs": [],
   "source": []
  }
 ],
 "metadata": {
  "kernelspec": {
   "display_name": "Python 3",
   "language": "python",
   "name": "python3"
  },
  "language_info": {
   "codemirror_mode": {
    "name": "ipython",
    "version": 3
   },
   "file_extension": ".py",
   "mimetype": "text/x-python",
   "name": "python",
   "nbconvert_exporter": "python",
   "pygments_lexer": "ipython3",
   "version": "3.6.4"
  }
 },
 "nbformat": 4,
 "nbformat_minor": 2
}
