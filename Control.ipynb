{
 "cells": [
  {
   "cell_type": "markdown",
   "metadata": {},
   "source": [
    "# Python Cコース 制御マスター課題"
   ]
  },
  {
   "cell_type": "markdown",
   "metadata": {},
   "source": [
    "***\n",
    "## 問題形式について\n",
    "ユーザーからの入力を求める問題の場合はinput関数を利用して入力できるようにすること \n",
    "\n",
    "### 例題\n",
    "ユーザーから名前を入力して、名前を出力しなさい。  \n",
    "\n",
    "### 例題解答\n",
    "```python\n",
    "name = input()\n",
    "print(name)\n",
    "```\n",
    "\n",
    "***"
   ]
  },
  {
   "cell_type": "markdown",
   "metadata": {},
   "source": [
    "## 問題1\n",
    "ユーザーから名前を入力してもらい、\"こんにちは’名前’さん！\"と出力しなさい。  \n",
    "なお、’名前’はユーザーから入力された文字列が入るようにすること。"
   ]
  },
  {
   "cell_type": "code",
   "execution_count": null,
   "metadata": {},
   "outputs": [],
   "source": [
    " name = input('お名前は？')\n",
    "print('こんにちは'+name+ 'さん')"
   ]
  },
  {
   "cell_type": "markdown",
   "metadata": {},
   "source": [
    "## 問題2\n",
    "ユーザーから整数を入力してもらい、その数値に1を足した値を出力しなさい。"
   ]
  },
  {
   "cell_type": "code",
   "execution_count": 1,
   "metadata": {},
   "outputs": [
    {
     "name": "stdout",
     "output_type": "stream",
     "text": [
      "整数は？8\n",
      "9\n"
     ]
    }
   ],
   "source": [
    "suuji=input('整数は？')\n",
    "print(int(suuji)+1)"
   ]
  },
  {
   "cell_type": "markdown",
   "metadata": {},
   "source": [
    "## 問題3\n",
    "以下のような変数がある。\n",
    "\n",
    "```python\n",
    "var1 = 999\n",
    "var2 = 9\n",
    "var3 = 1\n",
    "```\n",
    "\n",
    "var1とvar2を文字列として連結したものを出力し、連結した値を整数にしてvar3と足した結果を出力しなさい。"
   ]
  },
  {
   "cell_type": "code",
   "execution_count": 2,
   "metadata": {},
   "outputs": [
    {
     "name": "stdout",
     "output_type": "stream",
     "text": [
      "9999\n",
      "10000\n"
     ]
    }
   ],
   "source": [
    "\n",
    "var1 = 999\n",
    "var2 = 9\n",
    "var3 = 1\n",
    "\n",
    "var4 = str(var1) + str(var2)\n",
    "print(var4)\n",
    "\n",
    "print(int(var4 )+var3)"
   ]
  },
  {
   "cell_type": "markdown",
   "metadata": {},
   "source": [
    "## 問題4\n",
    "ユーザーから整数を入力してもらい、その数値が偶数の時は\"この'整数'は偶数です。\"と  \n",
    "奇数の時は\"この'整数'は奇数です。\"と出力しなさい。  \n",
    "なお'整数'はユーザーから入力された値をいれること"
   ]
  },
  {
   "cell_type": "code",
   "execution_count": 3,
   "metadata": {},
   "outputs": [
    {
     "name": "stdout",
     "output_type": "stream",
     "text": [
      "整数を入力してください：4\n",
      "この'整数'は偶数です。\n"
     ]
    }
   ],
   "source": [
    "x= input(\"整数を入力してください：\")\n",
    "\n",
    "if int(x) % 2 == 0:\n",
    "    print(\"この'整数'は偶数です。\")\n",
    "else:\n",
    "    print(\"この'整数'は奇数です。\")\n"
   ]
  },
  {
   "cell_type": "markdown",
   "metadata": {},
   "source": [
    "## 問題5\n",
    "ユーザーから整数を入力してもらい、その数値が偶数で10以上の時のみ数値を出力しなさい。"
   ]
  },
  {
   "cell_type": "code",
   "execution_count": 8,
   "metadata": {},
   "outputs": [
    {
     "name": "stdout",
     "output_type": "stream",
     "text": [
      "整数を入力してください：4\n"
     ]
    }
   ],
   "source": [
    "x = input(\"整数を入力してください：\")\n",
    "\n",
    "if int(x) >= 10:\n",
    "    print(x)\n",
    "    \n",
    "    "
   ]
  },
  {
   "cell_type": "markdown",
   "metadata": {},
   "source": [
    "## 問題6\n",
    "ユーザーから整数を入力してもらい、論理演算子を使って条件文を作って条件によって異なった値を出力する処理を自由に作りなさい。  "
   ]
  },
  {
   "cell_type": "code",
   "execution_count": 1,
   "metadata": {},
   "outputs": [
    {
     "name": "stdout",
     "output_type": "stream",
     "text": [
      "整数を入力してください：134\n",
      "134\n"
     ]
    }
   ],
   "source": [
    "x = input(\"整数を入力してください：\")\n",
    "if int(x)>100 and int(x)<200:\n",
    "    print(x)\n",
    " "
   ]
  },
  {
   "cell_type": "markdown",
   "metadata": {},
   "source": [
    "## 問題7\n",
    "ユーザーから整数を入力してもらい、1から入力された値までの範囲の整数をwhile文を使って出力しなさい。  \n",
    "### 例\n",
    "ユーザーからの入力: 5  \n",
    "出力結果:  \n",
    "1  \n",
    "2  \n",
    "3  \n",
    "4  \n",
    "5  "
   ]
  },
  {
   "cell_type": "code",
   "execution_count": 4,
   "metadata": {},
   "outputs": [
    {
     "name": "stdout",
     "output_type": "stream",
     "text": [
      "整数を入力してください：7\n",
      "1\n",
      "2\n",
      "3\n",
      "4\n",
      "5\n",
      "6\n",
      "7\n"
     ]
    }
   ],
   "source": [
    "x = input(\"整数を入力してください：\")\n",
    "i=1\n",
    "while i<=int(x):\n",
    "    print(i) \n",
    "    i+=1"
   ]
  },
  {
   "cell_type": "markdown",
   "metadata": {},
   "source": [
    "## 問題8\n",
    "問題７のプログラムを改良して、偶数の時のみ出力するプロウグラムをcontinue文を使って作りなさい。  "
   ]
  },
  {
   "cell_type": "code",
   "execution_count": 5,
   "metadata": {},
   "outputs": [
    {
     "name": "stdout",
     "output_type": "stream",
     "text": [
      "整数を入力してください：18\n",
      "2\n",
      "4\n",
      "6\n",
      "8\n",
      "10\n",
      "12\n",
      "14\n",
      "16\n",
      "18\n"
     ]
    }
   ],
   "source": [
    "\n",
    "x = input(\"整数を入力してください：\")\n",
    "i=1\n",
    "while i<=int(x):\n",
    "    i+=1\n",
    "    if  i%2==1:continue\n",
    "    print(i)\n",
    "        \n",
    "        \n"
   ]
  },
  {
   "cell_type": "markdown",
   "metadata": {},
   "source": [
    "## 問題9\n",
    "問題7のプログラムを改良して、30以上の値が出力しないようにしてください。  \n",
    "なお、while文の条件文は変えてはいけません。  "
   ]
  },
  {
   "cell_type": "code",
   "execution_count": 6,
   "metadata": {},
   "outputs": [
    {
     "name": "stdout",
     "output_type": "stream",
     "text": [
      "整数を入力してください：31\n",
      "1\n",
      "2\n",
      "3\n",
      "4\n",
      "5\n",
      "6\n",
      "7\n",
      "8\n",
      "9\n",
      "10\n",
      "11\n",
      "12\n",
      "13\n",
      "14\n",
      "15\n",
      "16\n",
      "17\n",
      "18\n",
      "19\n",
      "20\n",
      "21\n",
      "22\n",
      "23\n",
      "24\n",
      "25\n",
      "26\n",
      "27\n",
      "28\n",
      "29\n"
     ]
    }
   ],
   "source": [
    "x = input(\"整数を入力してください：\")\n",
    "i=0\n",
    "while i<=int(x): \n",
    "    i+=1\n",
    "    if i>=30:continue\n",
    "    print(i)    \n",
    "    "
   ]
  },
  {
   "cell_type": "markdown",
   "metadata": {},
   "source": [
    "## 問題10\n",
    "for文を使って1~10の整数を出力しなさい。  "
   ]
  },
  {
   "cell_type": "code",
   "execution_count": 24,
   "metadata": {},
   "outputs": [
    {
     "name": "stdout",
     "output_type": "stream",
     "text": [
      "1\n",
      "2\n",
      "3\n",
      "4\n",
      "5\n",
      "6\n",
      "7\n",
      "8\n",
      "9\n",
      "10\n"
     ]
    }
   ],
   "source": [
    "for i in range(1,11):\n",
    "    print(i)"
   ]
  },
  {
   "cell_type": "markdown",
   "metadata": {},
   "source": [
    "## 問題11\n",
    "for文を使って1~100の範囲で1から3つとばして値を出力しなさい。\n",
    "### 出力例\n",
    "1, 4, 7, 10, 13, 16..."
   ]
  },
  {
   "cell_type": "code",
   "execution_count": 42,
   "metadata": {},
   "outputs": [
    {
     "name": "stdout",
     "output_type": "stream",
     "text": [
      "1\n",
      "4\n",
      "7\n",
      "10\n",
      "13\n",
      "16\n",
      "19\n",
      "22\n",
      "25\n",
      "28\n",
      "31\n",
      "34\n",
      "37\n",
      "40\n",
      "43\n",
      "46\n",
      "49\n",
      "52\n",
      "55\n",
      "58\n",
      "61\n",
      "64\n",
      "67\n",
      "70\n",
      "73\n",
      "76\n",
      "79\n",
      "82\n",
      "85\n",
      "88\n",
      "91\n",
      "94\n",
      "97\n"
     ]
    }
   ],
   "source": [
    "\n",
    "for i in range(1,100,3):\n",
    "    \n",
    "    print(i)"
   ]
  },
  {
   "cell_type": "markdown",
   "metadata": {},
   "source": [
    "## 問題12 \n",
    "for文を使って1~100の範囲で値が  \n",
    "3の倍数のときは'FIZZ',  \n",
    "5の倍数のときは'BUZZ',  \n",
    "15の倍数のときは'FIZZBUZZ',  \n",
    "偶数のときは値に'!'を足したものを出力しなさい。"
   ]
  },
  {
   "cell_type": "code",
   "execution_count": 11,
   "metadata": {},
   "outputs": [
    {
     "name": "stdout",
     "output_type": "stream",
     "text": [
      "1\n",
      "2+!\n",
      "FIZZ\n",
      "4+!\n",
      "BUZZ\n",
      "FIZZ+!\n",
      "7\n",
      "8+!\n",
      "FIZZ\n",
      "BUZZ+!\n",
      "11\n",
      "FIZZ+!\n",
      "13\n",
      "14+!\n",
      "FIZZBUZZ\n",
      "16+!\n",
      "17\n",
      "FIZZ+!\n",
      "19\n",
      "BUZZ+!\n",
      "FIZZ\n",
      "22+!\n",
      "23\n",
      "FIZZ+!\n",
      "BUZZ\n",
      "26+!\n",
      "FIZZ\n",
      "28+!\n",
      "29\n",
      "FIZZBUZZ+!\n",
      "31\n",
      "32+!\n",
      "FIZZ\n",
      "34+!\n",
      "BUZZ\n",
      "FIZZ+!\n",
      "37\n",
      "38+!\n",
      "FIZZ\n",
      "BUZZ+!\n",
      "41\n",
      "FIZZ+!\n",
      "43\n",
      "44+!\n",
      "FIZZBUZZ\n",
      "46+!\n",
      "47\n",
      "FIZZ+!\n",
      "49\n",
      "BUZZ+!\n",
      "FIZZ\n",
      "52+!\n",
      "53\n",
      "FIZZ+!\n",
      "BUZZ\n",
      "56+!\n",
      "FIZZ\n",
      "58+!\n",
      "59\n",
      "FIZZBUZZ+!\n",
      "61\n",
      "62+!\n",
      "FIZZ\n",
      "64+!\n",
      "BUZZ\n",
      "FIZZ+!\n",
      "67\n",
      "68+!\n",
      "FIZZ\n",
      "BUZZ+!\n",
      "71\n",
      "FIZZ+!\n",
      "73\n",
      "74+!\n",
      "FIZZBUZZ\n",
      "76+!\n",
      "77\n",
      "FIZZ+!\n",
      "79\n",
      "BUZZ+!\n",
      "FIZZ\n",
      "82+!\n",
      "83\n",
      "FIZZ+!\n",
      "BUZZ\n",
      "86+!\n",
      "FIZZ\n",
      "88+!\n",
      "89\n",
      "FIZZBUZZ+!\n",
      "91\n",
      "92+!\n",
      "FIZZ\n",
      "94+!\n",
      "BUZZ\n",
      "FIZZ+!\n",
      "97\n",
      "98+!\n",
      "FIZZ\n",
      "BUZZ+!\n"
     ]
    }
   ],
   "source": [
    "for i in range(1,101):\n",
    "    \n",
    "    if i%15==0:\n",
    "        if i%2==0:\n",
    "             print(\"FIZZBUZZ\"+\"+!\")\n",
    "        else:\n",
    "             print(\"FIZZBUZZ\")     \n",
    "        \n",
    "        continue  \n",
    "    elif i%3==0:\n",
    "        if i%2==0:\n",
    "            print(\"FIZZ\"+\"+!\")\n",
    "        else: \n",
    "            print(\"FIZZ\")\n",
    "        continue\n",
    "    elif i%5==0:\n",
    "        if i%2==0:\n",
    "            print(\"BUZZ\"+\"+!\")\n",
    "        else:\n",
    "             print(\"BUZZ\")  \n",
    "        \n",
    "        continue\n",
    "    elif i%2==0:\n",
    "        print(str(i)+\"+!\")\n",
    "        continue\n",
    "        \n",
    "    \n",
    "\n",
    "    print(i)"
   ]
  },
  {
   "cell_type": "code",
   "execution_count": null,
   "metadata": {},
   "outputs": [],
   "source": []
  }
 ],
 "metadata": {
  "kernelspec": {
   "display_name": "Python 3",
   "language": "python",
   "name": "python3"
  },
  "language_info": {
   "codemirror_mode": {
    "name": "ipython",
    "version": 3
   },
   "file_extension": ".py",
   "mimetype": "text/x-python",
   "name": "python",
   "nbconvert_exporter": "python",
   "pygments_lexer": "ipython3",
   "version": "3.6.4"
  }
 },
 "nbformat": 4,
 "nbformat_minor": 2
}
