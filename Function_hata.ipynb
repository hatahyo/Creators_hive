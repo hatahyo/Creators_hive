{
 "cells": [
  {
   "cell_type": "markdown",
   "metadata": {},
   "source": [
    "# Python Cコース 関数マスター課題"
   ]
  },
  {
   "cell_type": "markdown",
   "metadata": {},
   "source": [
    "## 問題\n",
    "関数quiz1がある。  \n",
    "以下の値を引数に与えた時の結果を出力しなさい\n",
    "* 15\n",
    "* 24\n",
    "* 500\n",
    "* 1027"
   ]
  },
  {
   "cell_type": "code",
   "execution_count": 27,
   "metadata": {},
   "outputs": [],
   "source": [
    "def quiz1(value):\n",
    "    if value % 2 == 0:\n",
    "        return value ** 2 + value ** 4\n",
    "    else:\n",
    "        return value **3 + value ** 5"
   ]
  },
  {
   "cell_type": "code",
   "execution_count": 29,
   "metadata": {},
   "outputs": [
    {
     "data": {
      "text/plain": [
       "1142490584760590"
      ]
     },
     "execution_count": 29,
     "metadata": {},
     "output_type": "execute_result"
    }
   ],
   "source": [
    "quiz1(15)\n",
    "quiz1(24)\n",
    "quiz1(500)\n",
    "quiz1(1027)"
   ]
  },
  {
   "cell_type": "markdown",
   "metadata": {},
   "source": [
    "## 問題\n",
    "以下の値を引数にして関数quiz1を実行したとき、3の倍数の時には3を割った値、それ以外の時は\"３の倍数ではありません\"と出力する関数を作りなさい。  \n",
    "* 20\n",
    "* 12\n",
    "* 22"
   ]
  },
  {
   "cell_type": "code",
   "execution_count": 35,
   "metadata": {},
   "outputs": [
    {
     "name": "stdout",
     "output_type": "stream",
     "text": [
      "6960.0\n"
     ]
    }
   ],
   "source": [
    "def quiz2(value):\n",
    "    if quiz1(value) %3==0:\n",
    "        return print(quiz1(value)/3)\n",
    "    else:\n",
    "        return print(\"３の倍数ではありません\")\n",
    "\n",
    "quiz2(12)"
   ]
  },
  {
   "cell_type": "markdown",
   "metadata": {},
   "source": [
    "## 問題\n",
    "身長と体重を引数にいれて、BMI計算をする関数を作りなさい。"
   ]
  },
  {
   "cell_type": "code",
   "execution_count": 35,
   "metadata": {},
   "outputs": [
    {
     "name": "stdout",
     "output_type": "stream",
     "text": [
      "体重は？69\n",
      "身長は？67\n",
      "あなあのBMIは153です\n"
     ]
    }
   ],
   "source": [
    "def bmi(whight,height):\n",
    "    \n",
    "    return int(whight/((height/100)**2))\n",
    "    \n",
    "x=input(\"体重は？\")\n",
    "whight=int(x)\n",
    "\n",
    "y=input(\"身長は？\")\n",
    "height=int(y)\n",
    "\n",
    "z=bmi(whight,height)\n",
    "print(\"あなあのBMIは\"+str(z)+\"です\")"
   ]
  },
  {
   "cell_type": "markdown",
   "metadata": {},
   "source": [
    "## 問題\n",
    "2つのリストを交互に連結する関数を作りなさい。  \n",
    "例:  [1, 2, 3, 4]と[5, 6, 7, 8]を連結した時  \n",
    "[1, 5, 2, 6, 3, 7, 4, 8]"
   ]
  },
  {
   "cell_type": "code",
   "execution_count": 42,
   "metadata": {},
   "outputs": [
    {
     "ename": "IndentationError",
     "evalue": "unindent does not match any outer indentation level (<tokenize>, line 7)",
     "output_type": "error",
     "traceback": [
      "\u001b[1;36m  File \u001b[1;32m\"<tokenize>\"\u001b[1;36m, line \u001b[1;32m7\u001b[0m\n\u001b[1;33m    z.append (x)\u001b[0m\n\u001b[1;37m    ^\u001b[0m\n\u001b[1;31mIndentationError\u001b[0m\u001b[1;31m:\u001b[0m unindent does not match any outer indentation level\n"
     ]
    }
   ],
   "source": [
    "     a1=[1,2,3,4,5,6,7,8,9,10]\n",
    "     b1=[11,12,13,14,15,16,17,18,19,20]\n",
    "\n",
    "def aaa (a,b):\n",
    "    z=[]\n",
    "    for x,y in zip(a,b):\n",
    "        z.append (x)\n",
    "        z.append (y)\n",
    "    return z\n",
    "print(aaa(a1,b1))"
   ]
  },
  {
   "cell_type": "code",
   "execution_count": 50,
   "metadata": {},
   "outputs": [
    {
     "name": "stdout",
     "output_type": "stream",
     "text": [
      "[1, 11, 2, 12, 3, 13, 4, 14, 5, 15, 6, 16, 7, 17, 8, 18, 9, 19, 10, 20]\n"
     ]
    }
   ],
   "source": [
    "a1=[1,2,3,4,5,6,7,8,9,10]\n",
    "b1=[11,12,13,14,15,16,17,18,19,20]\n",
    "\n",
    "def aaa (a,b):\n",
    "    z=[]\n",
    "    for x,y in zip(a,b):\n",
    "        z.append (x)\n",
    "        z.append (y)\n",
    "    return z\n",
    "print(aaa(a1,b1))"
   ]
  },
  {
   "cell_type": "markdown",
   "metadata": {},
   "source": [
    "## 問題\n",
    "以下のようなATMシステムがある。  \n",
    "しかし、コードを見ると関数で書き直すと行数が短縮できて見やすくなりそうだ。  \n",
    "システムのコードで関数に直したほうがいいと思われる部分を修正しなさい。  \n",
    "なお、関数はコメントアウトで説明などを加えてどのような関数なのかコメントでわかるようにすること"
   ]
  },
  {
   "cell_type": "code",
   "execution_count": 3,
   "metadata": {
    "collapsed": true
   },
   "outputs": [],
   "source": [
    "cash = 0"
   ]
  },
  {
   "cell_type": "code",
   "execution_count": null,
   "metadata": {
    "scrolled": true
   },
   "outputs": [
    {
     "name": "stdout",
     "output_type": "stream",
     "text": [
      "メニューを選んでください\n",
      "1: 引き出し 2:預け入れ 3:残高照会\n"
     ]
    }
   ],
   "source": [
    "# システム\n",
    "#疑似暗証番号：1234\n",
    "passcord = '1234'\n",
    "\n",
    "\n",
    "#メニュー選択\n",
    "print(\"メニューを選んでください\")\n",
    "print(\"1: 引き出し 2:預け入れ 3:残高照会\")\n",
    "menu = input(\"メニュー番号入力>\")\n",
    "\n",
    "#引き出し機能の時\n",
    "if menu == '1':\n",
    "    \n",
    "    #暗証番号機能\n",
    "    print(\"暗証番号を入力してください\")\n",
    "    user_pass = input(\"暗証番号>\")\n",
    "    if user_pass == passcord:\n",
    "        \n",
    "        #引き出し処理\n",
    "        print(\"引き出す金額を入力してください\")\n",
    "        withdraw = int(input(\"引き出し金額>\"))\n",
    "        if withdraw < cash:\n",
    "            \n",
    "            #引き出し完了処理\n",
    "            cash -= withdraw\n",
    "            print(\"現金を受け取りください\")\n",
    "            print(\"残高は\"+ str(cash) +\"円となります\")\n",
    "            print(\"ご利用ありがとうございました\")\n",
    "            \n",
    "        else:\n",
    "            print(\"引き出し金額が超過しています\")\n",
    "            print(\"最初からやり直してください\")\n",
    "            \n",
    "    else:\n",
    "        print(\"暗証番号が違います\")\n",
    "        print(\"最初からやり直してください\")\n",
    "\n",
    "#預入機能の時\n",
    "elif menu == '2':\n",
    "    \n",
    "    #暗証番号機能\n",
    "    print(\"暗証番号を入力してください\")\n",
    "    user_pass = input(\"暗証番号>\")\n",
    "    if user_pass == passcord:\n",
    "        \n",
    "        #預入処理\n",
    "        print(\"現金をお入れください\")\n",
    "        savings = int(input(\"預入金額>\"))\n",
    "        cash += savings\n",
    "        print(\"残高は\"+ str(cash) +\"円となります\")\n",
    "        print(\"ご利用ありがとうございました\")\n",
    "        \n",
    "    else:\n",
    "        print(\"暗証番号が違います\")\n",
    "        print(\"最初からやり直してください\")\n",
    "\n",
    "#残高照会機能の時\n",
    "elif menu == '3':\n",
    "    \n",
    "    #暗証番号機能\n",
    "    print(\"暗証番号を入力してください\")\n",
    "    user_pass = input(\"暗証番号>\")\n",
    "    if user_pass == passcord:\n",
    "        \n",
    "        #残高照会処理\n",
    "        print(\"残高は\"+ str(cash) +\"円となります\")\n",
    "        print(\"ご利用ありがとうございました\")\n",
    "        \n",
    "    else:\n",
    "        print(\"暗証番号が違います\")\n",
    "        print(\"最初からやり直してください\")"
   ]
  },
  {
   "cell_type": "code",
   "execution_count": null,
   "metadata": {},
   "outputs": [
    {
     "name": "stdout",
     "output_type": "stream",
     "text": [
      "メニューを選んでください\n",
      "1: 引き出し 2:預け入れ 3:残高照会\n",
      "メニュー番号入力>2\n",
      "暗証番号を入力してください\n",
      "暗証番号>1234\n",
      "現金をお入れください\n"
     ]
    }
   ],
   "source": [
    "# システム\n",
    "#疑似暗証番号：1234\n",
    "passcord = '1234'\n",
    "\n",
    "\n",
    "#メニュー選択\n",
    "print(\"メニューを選んでください\")\n",
    "print(\"1: 引き出し 2:預け入れ 3:残高照会\")\n",
    "menu = input(\"メニュー番号入力>\")\n",
    "\n",
    "def unlock():\n",
    "    print(\"暗証番号を入力してください\")\n",
    "    user_pass = input(\"暗証番号>\")\n",
    "    if user_pass == passcord:\n",
    "              return True\n",
    "#引き出し機能の時\n",
    "if menu == '1':\n",
    "    \n",
    "    #暗証番号機能\n",
    "    if unlock()==True:\n",
    "        \n",
    "        #引き出し処理=\n",
    "        print(\"引き出す金額を入力してください\")\n",
    "        withdraw = int(input(\"引き出し金額>\"))\n",
    "        if withdraw < cash:\n",
    "            \n",
    "            #引き出し完了処理\n",
    "            cash -= withdraw\n",
    "            print(\"現金を受け取りください\")\n",
    "            print(\"残高は\"+ str(cash) +\"円となります\")\n",
    "            print(\"ご利用ありがとうございました\")\n",
    "            \n",
    "        else:\n",
    "            print(\"引き出し金額が超過しています\")\n",
    "            print(\"最初からやり直してください\")\n",
    "            \n",
    "    else:\n",
    "        print(\"暗証番号が違います\")\n",
    "        print(\"最初からやり直してください\")\n",
    "\n",
    "#預入機能の時\n",
    "elif menu == '2':\n",
    "    \n",
    "    #暗証番号機能\n",
    "        if  unlock()==True:\n",
    "\n",
    "            #預入処理\n",
    "            print(\"現金をお入れください\")\n",
    "            savings = int(input(\"預入金額>\"))\n",
    "            cash += savings\n",
    "            print(\"残高は\"+ str(cash) +\"円となります\") \n",
    "            print(\"ご利用ありがとうございました\")\n",
    "\n",
    "        else:\n",
    "            print(\"暗証番号が違います\")\n",
    "            print(\"最初からやり直してください\")\n",
    "\n",
    "#残高照会機能の時\n",
    "elif menu == '3':\n",
    "    \n",
    "    #暗証番号機能\n",
    "    if unlock()==True:\n",
    "        \n",
    "        #残高照会処理\n",
    "        print(\"残高は\"+ str(cash) +\"円となります\")\n",
    "        print(\"ご利用ありがとうございました\")\n",
    "        \n",
    "    else:\n",
    "        print(\"暗証番号が違います\")\n",
    "        print(\"最初からやり直してください\")"
   ]
  },
  {
   "cell_type": "code",
   "execution_count": null,
   "metadata": {},
   "outputs": [],
   "source": []
  }
 ],
 "metadata": {
  "kernelspec": {
   "display_name": "Python 3",
   "language": "python",
   "name": "python3"
  },
  "language_info": {
   "codemirror_mode": {
    "name": "ipython",
    "version": 3
   },
   "file_extension": ".py",
   "mimetype": "text/x-python",
   "name": "python",
   "nbconvert_exporter": "python",
   "pygments_lexer": "ipython3",
   "version": "3.6.4"
  }
 },
 "nbformat": 4,
 "nbformat_minor": 2
}
