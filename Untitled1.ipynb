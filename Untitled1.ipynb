{
 "cells": [
  {
   "cell_type": "code",
   "execution_count": null,
   "metadata": {},
   "outputs": [],
   "source": [
    "import random\n",
    "hand=[\"グー\",\"チョキ\",\"パー\",\"ゲーム終了\"]\n",
    "\n",
    "print(\"じゃんけんをしましょう\")\n",
    "while True:\n",
    "    com=random.randint(0,2)\n",
    "    for i ,desc in enumerate(hand):\n",
    "        print(i,\":\", desc)\n",
    "    you=int(input(\"出す手を数値で入力:\"))\n",
    "    if you ==3 : break\n",
    "    if you <0 or you>2:\n",
    "        print(\"0から3の間でにゅうりょくしてね\")\n",
    "        continue\n",
    "    \n",
    "    print(\"自分:\",hand[you])\n",
    "    print(\"相手:\",hand[com])\n",
    "    \n",
    "    \n",
    "    j=(you-com+3)%3\n",
    "    if j ==0:\n",
    "        print(\"あいこ\")\n",
    "    elif j ==1:\n",
    "        print(\"負け\")\n",
    "    else:\n",
    "        print(\"勝ち！\")\n",
    "      "
   ]
  },
  {
   "cell_type": "code",
   "execution_count": null,
   "metadata": {},
   "outputs": [],
   "source": []
  },
  {
   "cell_type": "code",
   "execution_count": null,
   "metadata": {},
   "outputs": [],
   "source": []
  },
  {
   "cell_type": "code",
   "execution_count": null,
   "metadata": {},
   "outputs": [],
   "source": []
  }
 ],
 "metadata": {
  "kernelspec": {
   "display_name": "Python 3",
   "language": "python",
   "name": "python3"
  },
  "language_info": {
   "codemirror_mode": {
    "name": "ipython",
    "version": 3
   },
   "file_extension": ".py",
   "mimetype": "text/x-python",
   "name": "python",
   "nbconvert_exporter": "python",
   "pygments_lexer": "ipython3",
   "version": "3.6.4"
  }
 },
 "nbformat": 4,
 "nbformat_minor": 2
}
