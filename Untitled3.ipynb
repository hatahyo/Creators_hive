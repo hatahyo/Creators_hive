{
 "cells": [
  {
   "cell_type": "code",
   "execution_count": 5,
   "metadata": {},
   "outputs": [
    {
     "name": "stdout",
     "output_type": "stream",
     "text": [
      "じゃんけんをしましょう\n"
     ]
    },
    {
     "ename": "AttributeError",
     "evalue": "module 'random' has no attribute 'randiant'",
     "output_type": "error",
     "traceback": [
      "\u001b[1;31m---------------------------------------------------------------------------\u001b[0m",
      "\u001b[1;31mAttributeError\u001b[0m                            Traceback (most recent call last)",
      "\u001b[1;32m<ipython-input-5-82680f7e692f>\u001b[0m in \u001b[0;36m<module>\u001b[1;34m()\u001b[0m\n\u001b[0;32m      4\u001b[0m \u001b[0mprint\u001b[0m\u001b[1;33m(\u001b[0m\u001b[1;34m\"じゃんけんをしましょう\"\u001b[0m\u001b[1;33m)\u001b[0m\u001b[1;33m\u001b[0m\u001b[0m\n\u001b[0;32m      5\u001b[0m \u001b[1;32mwhile\u001b[0m \u001b[1;32mTrue\u001b[0m\u001b[1;33m:\u001b[0m\u001b[1;33m\u001b[0m\u001b[0m\n\u001b[1;32m----> 6\u001b[1;33m     \u001b[0mcom\u001b[0m\u001b[1;33m=\u001b[0m\u001b[0mrandom\u001b[0m\u001b[1;33m.\u001b[0m\u001b[0mrandiant\u001b[0m\u001b[1;33m(\u001b[0m\u001b[1;36m0\u001b[0m\u001b[1;33m,\u001b[0m\u001b[1;36m2\u001b[0m\u001b[1;33m)\u001b[0m\u001b[1;33m\u001b[0m\u001b[0m\n\u001b[0m\u001b[0;32m      7\u001b[0m     \u001b[1;32mfor\u001b[0m \u001b[0mi\u001b[0m \u001b[1;33m,\u001b[0m\u001b[0mdesc\u001b[0m \u001b[1;32min\u001b[0m \u001b[0menumerate\u001b[0m\u001b[1;33m(\u001b[0m\u001b[0mhand\u001b[0m\u001b[1;33m)\u001b[0m\u001b[1;33m:\u001b[0m\u001b[1;33m\u001b[0m\u001b[0m\n\u001b[0;32m      8\u001b[0m         \u001b[0mprint\u001b[0m\u001b[1;33m(\u001b[0m\u001b[0mi\u001b[0m\u001b[1;33m,\u001b[0m\u001b[1;34m\":\"\u001b[0m\u001b[1;33m,\u001b[0m \u001b[0mdesc\u001b[0m\u001b[1;33m)\u001b[0m\u001b[1;33m\u001b[0m\u001b[0m\n",
      "\u001b[1;31mAttributeError\u001b[0m: module 'random' has no attribute 'randiant'"
     ]
    }
   ],
   "source": [
    "import random\n",
    "card_num = [\"1\",\"1\",\"2\",\"3\",\"4\",\"5\",\"6\",\"7\",\"8\",\"9\",\"10\",\"10\",\"10\",\"10\"]\n",
    "\n",
    "print(\"じゃんけんをしましょう\")\n",
    "while True:\n",
    "    com=random.randiant(0,2)\n",
    "    for i ,desc in enumerate(hand):\n",
    "        print(i,\":\", desc)\n",
    "    you=int(input(\"出す手を数値で入力:\"))\n",
    "    if you ==3 : break\n",
    "    if you <0 or you>2:\n",
    "        print(\"0から3の間でにゅうりょくしてね\")\n",
    "        continue\n",
    "    \n",
    "    print(\"自分:\",hand[you])\n",
    "    print(\"相手:\",hand[com])\n",
    "    \n",
    "    \n",
    "    j=(you-com+3)%3\n",
    "    if j ==0:\n",
    "        print(\"あいこ\")\n",
    "    elif j ==1:\n",
    "        print(\"負け\")\n",
    "    else:\n",
    "        print(\"勝ち！\")\n",
    "      \n",
    "      "
   ]
  },
  {
   "cell_type": "code",
   "execution_count": null,
   "metadata": {},
   "outputs": [],
   "source": [
    "import random\n",
    "card_num = [\"1\",\"1\",\"2\",\"3\",\"4\",\"5\",\"6\",\"7\",\"8\",\"9\",\"10\",\"10\",\"10\",\"10\"]\n",
    "\n",
    "print(\"じゃんけんをしましょう\")\n",
    "while True:\n",
    "    com=random.randiant(0,2)\n",
    "    for i ,desc in enumerate(hand):\n",
    "        print(i,\":\", desc)\n",
    "    you=int(input(\"出す手を数値で入力:\"))\n",
    "    if you ==3 : break\n",
    "    if you <0 or you>2:\n",
    "        print(\"0から3の間でにゅうりょくしてね\")\n",
    "        continue\n",
    "    \n",
    "    print(\"自分:\",hand[you])\n",
    "    print(\"相手:\",hand[com])\n",
    "    \n",
    "    \n",
    "    j=(you-com+3)%3\n",
    "    if j ==0:\n",
    "        print(\"あいこ\")\n",
    "    elif j ==1:\n",
    "        print(\"負け\")\n",
    "    else:\n",
    "        print(\"勝ち！\")\n",
    "      "
   ]
  }
 ],
 "metadata": {
  "kernelspec": {
   "display_name": "Python 3",
   "language": "python",
   "name": "python3"
  }
 },
 "nbformat": 4,
 "nbformat_minor": 2
}
