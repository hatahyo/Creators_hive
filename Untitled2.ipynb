{
 "cells": [
  {
   "cell_type": "code",
   "execution_count": null,
   "metadata": {},
   "outputs": [
    {
     "name": "stdout",
     "output_type": "stream",
     "text": [
      "0:グー 1:チョキ 2:パー 3:やめる2\n",
      "あなたパー，コンピュータ:チョキ\n",
      "負け\n"
     ]
    }
   ],
   "source": [
    " #じゃんけんプログラム\n",
    "    \n",
    "from random import randint              # 乱数を作る関数を読み込む\n",
    "hands = {0:\"グー\", 1:\"チョキ\", 2:\"パー\"}  # じゃんけんの手\n",
    "# 勝ち負けの結果\n",
    "result = {(0, 0):\"あいこ\", (0, 1):\"勝ち\",   (0, 2):\"負け\",   \n",
    "         (1, 0):\"負け\",   (1, 1):\"あいこ\", (1, 2):\"勝ち\",\n",
    "         (2, 0):\"勝ち\",   (2, 1):\"負け\",   (2, 2):\"あいこ\"}\n",
    "\n",
    "while True:\n",
    "    # じゃんけんのループ\n",
    "    pc= randint(0, 2)             # 乱数で手を決める\n",
    "    player_hand = input(\"0:グー 1:チョキ 2:パー 3:やめる\")\n",
    "    if player_hand == \"3\":\n",
    "        # 終了の数値が入力されたので，ループを抜ける\n",
    "        break\n",
    "    if player_hand not in (\"0\", \"1\", \"2\"):\n",
    "        # 不正な入力の場合，ループの先頭に戻る\n",
    "        continue\n",
    "    player= int(player_hand)     # ユーザの手を数値に変換\n",
    "    # 手を表示する\n",
    "    print(\"あなた\"+hands[player]+\"，コンピュータ:\"+hands[pc])\n",
    "\n",
    "    # 勝ち負けを表示する\n",
    "    print(result[(player, pc)])\n",
    "    "
   ]
  },
  {
   "cell_type": "code",
   "execution_count": null,
   "metadata": {},
   "outputs": [],
   "source": []
  },
  {
   "cell_type": "code",
   "execution_count": null,
   "metadata": {},
   "outputs": [],
   "source": []
  },
  {
   "cell_type": "code",
   "execution_count": null,
   "metadata": {},
   "outputs": [],
   "source": [
    "\n"
   ]
  },
  {
   "cell_type": "code",
   "execution_count": null,
   "metadata": {},
   "outputs": [],
   "source": []
  }
 ],
 "metadata": {
  "kernelspec": {
   "display_name": "Python 3",
   "language": "python",
   "name": "python3"
  },
  "language_info": {
   "codemirror_mode": {
    "name": "ipython",
    "version": 3
   },
   "file_extension": ".py",
   "mimetype": "text/x-python",
   "name": "python",
   "nbconvert_exporter": "python",
   "pygments_lexer": "ipython3",
   "version": "3.6.4"
  }
 },
 "nbformat": 4,
 "nbformat_minor": 2
}
